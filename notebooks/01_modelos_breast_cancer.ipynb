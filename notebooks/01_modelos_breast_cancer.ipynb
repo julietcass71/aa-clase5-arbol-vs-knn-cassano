{
 "cells": [
  {
   "cell_type": "code",
   "execution_count": 1,
   "id": "73e2b38c-1d95-41ec-a68b-ebc14f5d5397",
   "metadata": {},
   "outputs": [
    {
     "name": "stdout",
     "output_type": "stream",
     "text": [
      "Requirement already satisfied: scikit-learn in c:\\users\\julie\\anaconda3\\envs\\aa_clase5\\lib\\site-packages (from -r ../requirements.txt (line 1)) (1.7.2)\n",
      "Requirement already satisfied: pandas in c:\\users\\julie\\anaconda3\\envs\\aa_clase5\\lib\\site-packages (from -r ../requirements.txt (line 2)) (2.3.2)\n",
      "Requirement already satisfied: numpy in c:\\users\\julie\\anaconda3\\envs\\aa_clase5\\lib\\site-packages (from -r ../requirements.txt (line 3)) (2.3.3)\n",
      "Requirement already satisfied: matplotlib in c:\\users\\julie\\anaconda3\\envs\\aa_clase5\\lib\\site-packages (from -r ../requirements.txt (line 4)) (3.10.6)\n",
      "Requirement already satisfied: scipy>=1.8.0 in c:\\users\\julie\\anaconda3\\envs\\aa_clase5\\lib\\site-packages (from scikit-learn->-r ../requirements.txt (line 1)) (1.16.2)\n",
      "Requirement already satisfied: joblib>=1.2.0 in c:\\users\\julie\\anaconda3\\envs\\aa_clase5\\lib\\site-packages (from scikit-learn->-r ../requirements.txt (line 1)) (1.5.2)\n",
      "Requirement already satisfied: threadpoolctl>=3.1.0 in c:\\users\\julie\\anaconda3\\envs\\aa_clase5\\lib\\site-packages (from scikit-learn->-r ../requirements.txt (line 1)) (3.6.0)\n",
      "Requirement already satisfied: python-dateutil>=2.8.2 in c:\\users\\julie\\anaconda3\\envs\\aa_clase5\\lib\\site-packages (from pandas->-r ../requirements.txt (line 2)) (2.9.0.post0)\n",
      "Requirement already satisfied: pytz>=2020.1 in c:\\users\\julie\\anaconda3\\envs\\aa_clase5\\lib\\site-packages (from pandas->-r ../requirements.txt (line 2)) (2025.2)\n",
      "Requirement already satisfied: tzdata>=2022.7 in c:\\users\\julie\\anaconda3\\envs\\aa_clase5\\lib\\site-packages (from pandas->-r ../requirements.txt (line 2)) (2025.2)\n",
      "Requirement already satisfied: contourpy>=1.0.1 in c:\\users\\julie\\anaconda3\\envs\\aa_clase5\\lib\\site-packages (from matplotlib->-r ../requirements.txt (line 4)) (1.3.3)\n",
      "Requirement already satisfied: cycler>=0.10 in c:\\users\\julie\\anaconda3\\envs\\aa_clase5\\lib\\site-packages (from matplotlib->-r ../requirements.txt (line 4)) (0.12.1)\n",
      "Requirement already satisfied: fonttools>=4.22.0 in c:\\users\\julie\\anaconda3\\envs\\aa_clase5\\lib\\site-packages (from matplotlib->-r ../requirements.txt (line 4)) (4.60.0)\n",
      "Requirement already satisfied: kiwisolver>=1.3.1 in c:\\users\\julie\\anaconda3\\envs\\aa_clase5\\lib\\site-packages (from matplotlib->-r ../requirements.txt (line 4)) (1.4.9)\n",
      "Requirement already satisfied: packaging>=20.0 in c:\\users\\julie\\anaconda3\\envs\\aa_clase5\\lib\\site-packages (from matplotlib->-r ../requirements.txt (line 4)) (25.0)\n",
      "Requirement already satisfied: pillow>=8 in c:\\users\\julie\\anaconda3\\envs\\aa_clase5\\lib\\site-packages (from matplotlib->-r ../requirements.txt (line 4)) (11.3.0)\n",
      "Requirement already satisfied: pyparsing>=2.3.1 in c:\\users\\julie\\anaconda3\\envs\\aa_clase5\\lib\\site-packages (from matplotlib->-r ../requirements.txt (line 4)) (3.2.5)\n",
      "Requirement already satisfied: six>=1.5 in c:\\users\\julie\\anaconda3\\envs\\aa_clase5\\lib\\site-packages (from python-dateutil>=2.8.2->pandas->-r ../requirements.txt (line 2)) (1.17.0)\n"
     ]
    }
   ],
   "source": [
    "!pip install -r ../requirements.txt\n"
   ]
  },
  {
   "cell_type": "code",
   "execution_count": 2,
   "id": "4ebb847c-ad27-4a44-b21e-71bde91cb493",
   "metadata": {},
   "outputs": [
    {
     "data": {
      "text/plain": [
       "((455, 30), (114, 30))"
      ]
     },
     "execution_count": 2,
     "metadata": {},
     "output_type": "execute_result"
    }
   ],
   "source": [
    "from sklearn.datasets import load_breast_cancer\n",
    "from sklearn.model_selection import train_test_split, StratifiedKFold, GridSearchCV\n",
    "\n",
    "X, y = load_breast_cancer(return_X_y=True)\n",
    "Xtr, Xte, ytr, yte = train_test_split(X, y, test_size=0.2, stratify=y, random_state=42)\n",
    "cv = StratifiedKFold(n_splits=5, shuffle=True, random_state=42)\n",
    "\n",
    "Xtr.shape, Xte.shape"
   ]
  },
  {
   "cell_type": "markdown",
   "id": "bf45289c-6aab-4953-b853-83e6b906345a",
   "metadata": {},
   "source": [
    "**Inspección rápida:**\n",
    "- Dimensiones: `X_train` y `X_test` quedaron con un 80/20 estratificado.\n",
    "- Las variables son numéricas: ideal para K-NN (con escalado) y también para Árbol.\n",
    "- Mantengo `random_state=42` para poder reproducir los resultados.\n"
   ]
  },
  {
   "cell_type": "code",
   "execution_count": 3,
   "id": "49341206-b972-43a8-bad1-2d0b3de59ec6",
   "metadata": {},
   "outputs": [
    {
     "data": {
      "text/plain": [
       "({'clf__n_neighbors': 9, 'clf__weights': 'uniform'},\n",
       " np.float64(0.9648351648351647))"
      ]
     },
     "execution_count": 3,
     "metadata": {},
     "output_type": "execute_result"
    }
   ],
   "source": [
    "# KNN con escalado + búsqueda de hiperparámetros\n",
    "from sklearn.pipeline import Pipeline\n",
    "from sklearn.preprocessing import StandardScaler\n",
    "from sklearn.neighbors import KNeighborsClassifier\n",
    "\n",
    "knn = Pipeline([('scaler', StandardScaler()), ('clf', KNeighborsClassifier())])\n",
    "knn_grid = {'clf__n_neighbors':[1,3,5,7,9,11,15],\n",
    "            'clf__weights':['uniform','distance']}\n",
    "\n",
    "knn_gs = GridSearchCV(knn, knn_grid, cv=cv, n_jobs=-1)\n",
    "knn_gs.fit(Xtr, ytr)\n",
    "\n",
    "knn_gs.best_params_, knn_gs.best_score_\n"
   ]
  },
  {
   "cell_type": "markdown",
   "id": "2807126a-7b74-4895-a7f9-95cd96174841",
   "metadata": {},
   "source": [
    "**K-NN:**\n",
    "- Mejor configuración: {{pegar best_params_}}.\n",
    "- Con k=9 obtuve el mejor promedio CV. Me quedo con `weights='uniform'` porque no aportó ventaja usar `distance`.\n",
    "- Por qué escalado: K-NN usa distancias; si no estandarizo, las features con mayor rango dominan.\n"
   ]
  },
  {
   "cell_type": "code",
   "execution_count": 4,
   "id": "0b3a95b6-155e-4aee-8b0f-8dd940ce9c72",
   "metadata": {},
   "outputs": [
    {
     "data": {
      "text/plain": [
       "({'max_depth': 3, 'min_samples_leaf': 5}, np.float64(0.9318681318681319))"
      ]
     },
     "execution_count": 4,
     "metadata": {},
     "output_type": "execute_result"
    }
   ],
   "source": [
    "# Árbol de Decisión + búsqueda\n",
    "from sklearn.tree import DecisionTreeClassifier\n",
    "\n",
    "tree = DecisionTreeClassifier(random_state=42)\n",
    "tree_grid = {'max_depth':[None,3,5,7,10], 'min_samples_leaf':[1,3,5]}\n",
    "\n",
    "tree_gs = GridSearchCV(tree, tree_grid, cv=cv, n_jobs=-1)\n",
    "tree_gs.fit(Xtr, ytr)\n",
    "\n",
    "tree_gs.best_params_, tree_gs.best_score_\n"
   ]
  },
  {
   "cell_type": "markdown",
   "id": "b261c53e-49d7-4a2f-9a0c-d7afd9e6d498",
   "metadata": {},
   "source": [
    "**Árbol:**\n",
    "- Mejor configuración: {{pegar best_params_}}.\n",
    "- Limitar max_depth y min_samples_leaf ayudó a evitar sobreajuste y mejoró la validación.\n",
    "- Sin escalado: el Árbol es invariante a la escala (corta por umbrales), por eso no lo escalo.\n"
   ]
  },
  {
   "cell_type": "code",
   "execution_count": 5,
   "id": "6ebbc3e4-007b-4e42-a679-19617a02eb9d",
   "metadata": {},
   "outputs": [
    {
     "data": {
      "image/png": "[encoded data removed]",
      "text/plain": [
       "<Figure size 640x480 with 2 Axes>"
      ]
     },
     "metadata": {},
     "output_type": "display_data"
    },
    {
     "data": {
      "image/png": "[encoded data removed]",
      "text/plain": [
       "<Figure size 640x480 with 2 Axes>"
      ]
     },
     "metadata": {},
     "output_type": "display_data"
    },
    {
     "data": {
      "text/html": [
       "<div>\n",
       "<style scoped>\n",
       "    .dataframe tbody tr th:only-of-type {\n",
       "        vertical-align: middle;\n",
       "    }\n",
       "\n",
       "    .dataframe tbody tr th {\n",
       "        vertical-align: top;\n",
       "    }\n",
       "\n",
       "    .dataframe thead th {\n",
       "        text-align: right;\n",
       "    }\n",
       "</style>\n",
       "<table border=\"1\" class=\"dataframe\">\n",
       "  <thead>\n",
       "    <tr style=\"text-align: right;\">\n",
       "      <th></th>\n",
       "      <th>best_params</th>\n",
       "      <th>accuracy_test</th>\n",
       "      <th>f1_macro_test</th>\n",
       "    </tr>\n",
       "  </thead>\n",
       "  <tbody>\n",
       "    <tr>\n",
       "      <th>KNN</th>\n",
       "      <td>{'clf__n_neighbors': 9, 'clf__weights': 'unifo...</td>\n",
       "      <td>0.973684</td>\n",
       "      <td>0.971277</td>\n",
       "    </tr>\n",
       "    <tr>\n",
       "      <th>Arbol</th>\n",
       "      <td>{'max_depth': 3, 'min_samples_leaf': 5}</td>\n",
       "      <td>0.938596</td>\n",
       "      <td>0.933693</td>\n",
       "    </tr>\n",
       "  </tbody>\n",
       "</table>\n",
       "</div>"
      ],
      "text/plain": [
       "                                             best_params  accuracy_test  \\\n",
       "KNN    {'clf__n_neighbors': 9, 'clf__weights': 'unifo...       0.973684   \n",
       "Arbol            {'max_depth': 3, 'min_samples_leaf': 5}       0.938596   \n",
       "\n",
       "       f1_macro_test  \n",
       "KNN         0.971277  \n",
       "Arbol       0.933693  "
      ]
     },
     "execution_count": 5,
     "metadata": {},
     "output_type": "execute_result"
    }
   ],
   "source": [
    "# Evaluación en test + matrices de confusión\n",
    "from sklearn.metrics import accuracy_score, f1_score, confusion_matrix, ConfusionMatrixDisplay\n",
    "import matplotlib.pyplot as plt, os\n",
    "import pandas as pd\n",
    "\n",
    "os.makedirs(\"../reports/figures\", exist_ok=True)\n",
    "\n",
    "resultados = {}\n",
    "for nombre, modelo in [('KNN', knn_gs), ('Arbol', tree_gs)]:\n",
    "    ypred = modelo.predict(Xte)\n",
    "    resultados[nombre] = {\n",
    "        'best_params': modelo.best_params_,\n",
    "        'accuracy_test': accuracy_score(yte, ypred),\n",
    "        'f1_macro_test': f1_score(yte, ypred, average='macro'),\n",
    "    }\n",
    "    disp = ConfusionMatrixDisplay(confusion_matrix(yte, ypred))\n",
    "    fig = disp.plot().figure_\n",
    "    plt.title(f\"Matriz de confusión - {nombre}\")\n",
    "    fig.savefig(f\"../reports/figures/cm_{nombre.lower()}.png\", dpi=150, bbox_inches='tight')\n",
    "    plt.show()\n",
    "\n",
    "pd.DataFrame.from_dict(resultados, orient='index')\n"
   ]
  },
  {
   "cell_type": "markdown",
   "id": "862c7d00-248b-4eff-8d7d-f5066d0613fc",
   "metadata": {},
   "source": [
    "**RESULTADOS:**\n",
    "\n",
    "**K-NN (k=9, weights='uniform'):** No hubo falsos negativos y sólo 3 falsos positivos. Para screening médico me quedo con este balance (prefiero avisar de más antes que dejar pasar un maligno).\n",
    "\n",
    "Conteos (test): TN=39 · FP=3 · FN=0 · TP=72 (total=114)\n",
    "\n",
    "- Recall / Sensibilidad (maligno) = 72/(72+0) = 1.00\n",
    "\n",
    "- Precisión (maligno) = 72/(72+3) = 0.96\n",
    "\n",
    "- Especificidad (benigno) = 39/(39+3) = 0.93\n",
    "\n",
    "**Árbol (max_depth=3, min_samples_leaf=5):** 3 falsos negativos y 4 falsos positivos. Para screening médico, los FN pesan más; por eso K-NN me gusta más en este dataset.\n",
    "\n",
    "Conteos (test): TN=38 · FP=4 · FN=3 · TP=69 (total=114)\n",
    "\n",
    "- Recall / Sensibilidad (maligno) = 69/(69+3) = 0.96\n",
    "\n",
    "- Precisión (maligno) = 69/(69+4) = 0.95\n",
    "\n",
    "- Especificidad (benigno) = 38/(38+4) = 0.90\n",
    "\n",
    "- **K-NN** rinde mejor: Accuracy 0.974 vs 0.939 y F1-macro 0.971 vs 0.934 en Árbol (= +3.5 pp en ambas métricas).\n",
    "- Como F1-macro ≈ Accuracy en ambos, las clases están razonablemente balanceadas y el modelo no está favoreciendo a una sola clase.\n",
    "- Los hiperparámetros tienen sentido:\n",
    "   - K-NN con k=9 y `weights='uniform'`: buen equilibrio ruido/bias en este dataset numérico.\n",
    "   - Árbol con max_depth=3 y min_samples_leaf=5: árbol regularizado (evita sobreajuste), pero quedó por debajo.\n",
    "- Con las matrices de confusión: K-NN tuvo 0 FN (no se escapó ningún maligno) vs Árbol 3 FN.  \n",
    "  Para un caso médico, esto inclina la balanza a favor de K-NN.\n"
   ]
  },
  {
   "cell_type": "code",
   "execution_count": null,
   "id": "951476d9-046e-4881-a59d-78bdb9e99a90",
   "metadata": {},
   "outputs": [],
   "source": []
  }
 ],
 "metadata": {
  "kernelspec": {
   "display_name": "Python 3 (ipykernel)",
   "language": "python",
   "name": "python3"
  },
  "language_info": {
   "codemirror_mode": {
    "name": "ipython",
    "version": 3
   },
   "file_extension": ".py",
   "mimetype": "text/x-python",
   "name": "python",
   "nbconvert_exporter": "python",
   "pygments_lexer": "ipython3",
   "version": "3.11.13"
  }
 },
 "nbformat": 4,
 "nbformat_minor": 5
}
